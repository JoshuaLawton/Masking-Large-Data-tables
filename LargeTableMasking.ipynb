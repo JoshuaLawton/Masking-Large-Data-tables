{
 "cells": [
  {
   "cell_type": "markdown",
   "metadata": {},
   "source": [
    "# Simple function to mask data values in large tables "
   ]
  },
  {
   "cell_type": "markdown",
   "metadata": {},
   "source": [
    "This is an attempt to code a masking function. This function takes your input data table, searches for all occurances of a certain value and then proceeds to mask it. This is useful for large databases where empty entries have been filled in with a value."
   ]
  },
  {
   "cell_type": "code",
   "execution_count": 1,
   "metadata": {
    "collapsed": true
   },
   "outputs": [],
   "source": [
    "import numpy as np\n",
    "from astropy.table import Table"
   ]
  },
  {
   "cell_type": "code",
   "execution_count": 2,
   "metadata": {
    "collapsed": true
   },
   "outputs": [],
   "source": [
    "def TableMask(t,Value):\n",
    "    \"\"\"Function to mask large tables where a value has been subbed into empty enteries where:\n",
    "    t - This is the table to be masked\n",
    "    Value - This is the value subbed into empty entries\n",
    "    This function requires the astropy.table module\"\"\"\n",
    "    t = Table(t,masked=True)\n",
    "    for col in t.columns.values():\n",
    "        mask = []\n",
    "        for i in range(0,len(t)-1): #-1 as phython counts from 0\n",
    "            if col[i] == Value:\n",
    "                maskvalue=['True']\n",
    "                np.append(mask,maskvalue)\n",
    "                #print(mask)\n",
    "                #print(maskvalue)\n",
    "                #print(i)\n",
    "                #print(col[i])\n",
    "            else:\n",
    "                maskvalue=['False']\n",
    "                np.append(mask,maskvalue)\n",
    "                #print(col[i])\n",
    "                #print(maskvalue)\n",
    "        col.mask = mask"
   ]
  },
  {
   "cell_type": "code",
   "execution_count": 5,
   "metadata": {},
   "outputs": [
    {
     "name": "stderr",
     "output_type": "stream",
     "text": [
      "WARNING: OverflowError converting to IntType in column objID, reverting to String. [astropy.io.ascii.fastbasic]\n"
     ]
    }
   ],
   "source": [
    "Mag = Table.read('ConstructQueryC2_zcapjdl.csv')\n",
    "#Mag['ObjID']=Table(dtype=('i4'))"
   ]
  },
  {
   "cell_type": "code",
   "execution_count": 6,
   "metadata": {
    "collapsed": true
   },
   "outputs": [],
   "source": [
    "MaskedMagnitudes = TableMask(Mag,-999)"
   ]
  },
  {
   "cell_type": "code",
   "execution_count": null,
   "metadata": {
    "collapsed": true
   },
   "outputs": [],
   "source": []
  }
 ],
 "metadata": {
  "kernelspec": {
   "display_name": "Python 3",
   "language": "python",
   "name": "python3"
  },
  "language_info": {
   "codemirror_mode": {
    "name": "ipython",
    "version": 3
   },
   "file_extension": ".py",
   "mimetype": "text/x-python",
   "name": "python",
   "nbconvert_exporter": "python",
   "pygments_lexer": "ipython3",
   "version": "3.6.2"
  }
 },
 "nbformat": 4,
 "nbformat_minor": 2
}
