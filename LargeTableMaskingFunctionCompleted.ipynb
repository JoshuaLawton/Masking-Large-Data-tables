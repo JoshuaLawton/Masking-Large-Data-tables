{
 "cells": [
  {
   "cell_type": "markdown",
   "metadata": {},
   "source": [
    "# Simple function to mask data values in large tables "
   ]
  },
  {
   "cell_type": "markdown",
   "metadata": {},
   "source": [
    "This is an attempt to code a masking function. This function takes your input data table, searches for all occurances of a certain value and then proceeds to mask it. This is useful for large databases where empty entries have been filled in with a value."
   ]
  },
  {
   "cell_type": "code",
   "execution_count": 1,
   "metadata": {
    "collapsed": true
   },
   "outputs": [],
   "source": [
    "import numpy as np\n",
    "import numpy.ma as ma\n",
    "from astropy.table import Table"
   ]
  },
  {
   "cell_type": "code",
   "execution_count": 2,
   "metadata": {
    "collapsed": true
   },
   "outputs": [],
   "source": [
    "def TableMask(t,Value):\n",
    "    \"\"\"Function to mask large tables where a value has been subbed into empty enteries where:\n",
    "    t - This is the table to be masked\n",
    "    Value - This is the value subbed into empty entries\n",
    "    This function requires the astropy.table module and the numpy.ma module\"\"\"\n",
    "    t = Table(t,masked=True) #Ensures the input table can be masked\n",
    "    for col in t.columns.values(): #Checks each column one by one\n",
    "        m = [] #Initialise mask for new column\n",
    "        for i in range(0,len(t)-1): #-1 as python counts from 0\n",
    "            if col[i] == Value: #If the value of the entery matches the filled value, then mask\n",
    "                m = np.append(m,[1]) #Add a True value to array\n",
    "            else:\n",
    "                m = np.append(m,[0]) #Add a False value to array\n",
    "        masK = ma.make_mask(m,shrink=False) #Converts 1s and 0s to Boolean True/False\n",
    "        name = col.name #gets name of column\n",
    "        t[name].mask = masK #Applies generated mask to column in question\n",
    "    return t"
   ]
  },
  {
   "cell_type": "code",
   "execution_count": 3,
   "metadata": {},
   "outputs": [
    {
     "name": "stderr",
     "output_type": "stream",
     "text": [
      "WARNING: OverflowError converting to IntType in column objID, reverting to String. [astropy.io.ascii.fastbasic]\n"
     ]
    }
   ],
   "source": [
    "Mag = Table.read('ConstructQueryC2_zcapjdl.csv')\n",
    "#Mag['ObjID']=Table(dtype=(int))"
   ]
  },
  {
   "cell_type": "code",
   "execution_count": null,
   "metadata": {},
   "outputs": [],
   "source": []
  },
  {
   "cell_type": "code",
   "execution_count": 4,
   "metadata": {},
   "outputs": [
    {
     "name": "stderr",
     "output_type": "stream",
     "text": [
      "IOPub data rate exceeded.\n",
      "The notebook server will temporarily stop sending output\n",
      "to the client in order to avoid crashing it.\n",
      "To change this limit, set the config variable\n",
      "`--NotebookApp.iopub_data_rate_limit`.\n"
     ]
    }
   ],
   "source": [
    "MaskedMagnitudes = TableMask(Mag,-999)\n",
    "#print(MaskedMagnitudes)\n",
    "MaskedMagnitudes.show_in_notebook()"
   ]
  },
  {
   "cell_type": "code",
   "execution_count": 6,
   "metadata": {},
   "outputs": [
    {
     "name": "stdout",
     "output_type": "stream",
     "text": [
      "      objID        SkyCellID    gPSFMag    ...    yKronMag     yKronMagErr   \n",
      "------------------ --------- ------------- ... ------------- ----------------\n",
      "114380053160452811        31 23.9239006042 ... 21.2462005615   0.237430006266\n",
      "114380053107061970        31 19.3106994629 ... 17.1007995605 0.00719300005585\n",
      "114400053042459109        31 23.3169002533 ... 20.6588993073    0.14471000433\n",
      "114400053106096789        31 23.9426994324 ... 20.5063991547    0.16102899611\n",
      "114390053148904281        31 22.1103992462 ... 19.6331005096  0.0711719989777\n",
      "114390053093199705        31 21.1236991882 ... 19.7513999939  0.0697899982333\n",
      "114380053026915963        31 23.5291996002 ... 20.4058990479   0.112152002752\n",
      "114380053011926580        31 23.1569004059 ... 19.4487991333  0.0553979985416\n",
      "114410052877297717        31 21.4125003815 ... 19.9148006439  0.0781709998846\n",
      "114410053104609826        31 22.0965003967 ... 18.9862003326   0.037473000586\n",
      "               ...       ...           ... ...           ...              ...\n",
      "113690046998071344        13 19.9752006531 ... 19.6557998657  0.0686070024967\n",
      "113650047396687834        13 24.9941005707 ...  19.279499054  0.0379379987717\n",
      "113660047365924475        13 21.0853004456 ...  19.426700592  0.0412239991128\n",
      "113660047290383646        13 22.7849006653 ...  20.359500885   0.108474999666\n",
      "113660047028206228        13 22.5529003143 ... 20.5207996368   0.145400002599\n",
      "113640047143957992        13 20.0902996063 ...  20.094499588  0.0776859968901\n",
      "113610047386697513        13 22.7402992249 ... 19.8887004852  0.0671409964561\n",
      "113620047369550658        13 23.3125991821 ... 20.6751003265   0.154543995857\n",
      "113640047176944991        13 23.4365997314 ... 21.2066001892   0.197885006666\n",
      "113640047223636750        13 22.4092006683 ... 18.7378997803  0.0233290009201\n",
      "113640047324296366        13 24.8631000519 ... 20.4554004669   0.110573001206\n",
      "Length = 7403 rows\n"
     ]
    }
   ],
   "source": [
    "print(MaskedMagnitudes)"
   ]
  },
  {
   "cell_type": "code",
   "execution_count": null,
   "metadata": {
    "collapsed": true
   },
   "outputs": [],
   "source": []
  }
 ],
 "metadata": {
  "kernelspec": {
   "display_name": "Python 3",
   "language": "python",
   "name": "python3"
  },
  "language_info": {
   "codemirror_mode": {
    "name": "ipython",
    "version": 3
   },
   "file_extension": ".py",
   "mimetype": "text/x-python",
   "name": "python",
   "nbconvert_exporter": "python",
   "pygments_lexer": "ipython3",
   "version": "3.6.2"
  }
 },
 "nbformat": 4,
 "nbformat_minor": 2
}
